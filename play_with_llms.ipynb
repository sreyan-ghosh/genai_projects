{
 "cells": [
  {
   "cell_type": "markdown",
   "metadata": {},
   "source": [
    "## Starting with LLMs\n",
    "### Hugging Face"
   ]
  },
  {
   "cell_type": "code",
   "execution_count": 8,
   "metadata": {},
   "outputs": [],
   "source": [
    "import langchain\n",
    "import requests\n",
    "from ApiSecrets import ApiSecrets"
   ]
  },
  {
   "cell_type": "code",
   "execution_count": 9,
   "metadata": {},
   "outputs": [],
   "source": [
    "API_URL = ApiSecrets.HF_MISTRAL_ENDPOINT\n",
    "API_KEY = ApiSecrets.HF_API_KEY"
   ]
  },
  {
   "cell_type": "code",
   "execution_count": 10,
   "metadata": {},
   "outputs": [],
   "source": [
    "# homework: create a function that takes care of the background API call and gives us the wanted result from a prompt\n",
    "def generate_response(prompt):\n",
    "    headers = {\"Authorization\": f\"Bearer {API_KEY}\"}\n",
    "    payload = {\n",
    "        \"inputs\": f\"{prompt}\"\n",
    "    }\n",
    "    response = requests.post(API_URL, headers=headers, json=payload)\n",
    "    result = response.json()[0][\"generated_text\"].strip()\n",
    "    return result"
   ]
  },
  {
   "cell_type": "code",
   "execution_count": 11,
   "metadata": {},
   "outputs": [
    {
     "name": "stdout",
     "output_type": "stream",
     "text": [
      "Give me a good name for my new Chinese restaurant.\n",
      "\n",
      "Here are some ideas:\n",
      "\n",
      "1. Mandarin Magic - This name evokes the idea of something special and enchanting about Chinese cuisine.\n",
      "2. Grand Dragon - This name is bold and assertive, suggesting the dominance and richness of Chinese food and culture.\n",
      "3. Fortune Kitchen - This name emphasizes the idea of good fortune and prosperity, which is a common theme in Chinese culture.\n",
      "4. Jade Garden - This name evokes\n"
     ]
    }
   ],
   "source": [
    "prompt1 =  \"Give me a good name for my new Chinese restaurant.\"\n",
    "result1 = generate_response(prompt1)\n",
    "print(result1)"
   ]
  },
  {
   "cell_type": "markdown",
   "metadata": {},
   "source": [
    "#### Prompt Templating"
   ]
  },
  {
   "cell_type": "code",
   "execution_count": 12,
   "metadata": {},
   "outputs": [
    {
     "name": "stdout",
     "output_type": "stream",
     "text": [
      "what is the capital of france?Hello! The capital city of France is Paris. It is one of the most famous cities in the world, known for its iconic landmarks such as the Eiffel Tower, the Louvre Museum, and Notre-Dame Cathedral. Paris is also considered a global center for art, fashion, gastronomy, and culture. I hope this helps! Let me know if you have any other questions.\n"
     ]
    }
   ],
   "source": [
    "# classic prompt templating\n",
    "from langchain.prompts import PromptTemplate\n",
    "template = PromptTemplate(\n",
    "    input_variables=[\"country\"],\n",
    "    template=\"what is the capital of {country}?\"\n",
    ")\n",
    "prompt2 = template.format(country=\"france\")\n",
    "result2 = generate_response(prompt2)\n",
    "print(result2)"
   ]
  },
  {
   "cell_type": "code",
   "execution_count": 13,
   "metadata": {},
   "outputs": [
    {
     "name": "stdout",
     "output_type": "stream",
     "text": [
      "What is a good name for a artificial intelligence startup?\n",
      "\n",
      "Here are some suggestions for a name for an artificial intelligence startup:\n",
      "\n",
      "1. BrainWave: This name plays on the idea of artificial intelligence being a wave or flow of intelligent thought.\n",
      "2. Neuralia: This name refers to the neural networks that are the basis of many artificial intelligence systems.\n",
      "3. Sentient: This name implies the ability to have or feel sensations and emotions, like a sentient being.\n",
      "4. Cognit:\n"
     ]
    }
   ],
   "source": [
    "# templating using the shorthand from_template method\n",
    "prompt_from_template = PromptTemplate.from_template(\"What is a good name for a {company_type} startup?\")\n",
    "prompt3 = prompt_from_template.format(company_type=\"artificial intelligence\")\n",
    "result3 = generate_response(prompt3)\n",
    "print(result3)"
   ]
  },
  {
   "cell_type": "markdown",
   "metadata": {},
   "source": [
    "### Cohere"
   ]
  },
  {
   "cell_type": "code",
   "execution_count": 14,
   "metadata": {},
   "outputs": [],
   "source": [
    "import cohere\n",
    "COHERE_API_KEY = ApiSecrets.COHERE_API_KEY\n",
    "co = cohere.Client(COHERE_API_KEY)"
   ]
  },
  {
   "cell_type": "code",
   "execution_count": 15,
   "metadata": {},
   "outputs": [],
   "source": [
    "response = co.generate(\n",
    "    prompt = \"What is the capital of Germany?\"\n",
    ")"
   ]
  },
  {
   "cell_type": "code",
   "execution_count": 16,
   "metadata": {},
   "outputs": [
    {
     "data": {
      "text/plain": [
       "Generation(id='6961ea00-6f6d-4ba4-ade7-d523dbd097b6', prompt='What is the capital of Germany?', generations=[SingleGeneration(id='c6bf1937-0aba-4e32-9be3-64ae5569d41a', text=' The capital of Germany is Berlin. \\n\\nBerlin is the largest city in Germany and has a rich history and culture. It has been an important center of politics, culture, and science since the 18th century, and has been heavily impacted by major historical events such as the Holocaust and the fall of the Berlin Wall in the late 20th century. \\n\\nToday, Berlin is a diverse and vibrant city known for its nightlife, art scene, and many historical landmarks, including the Berlin Wall Memorial and the Reichstag building. It is also home to several world-class universities and is a major hub for science, technology, and business. ', index=None, likelihood=None, token_likelihoods=None, finish_reason='COMPLETE')], meta=ApiMeta(api_version=ApiMetaApiVersion(version='1', is_deprecated=None, is_experimental=None), billed_units=ApiMetaBilledUnits(input_tokens=7, output_tokens=130, search_units=None, classifications=None), warnings=None))"
      ]
     },
     "execution_count": 16,
     "metadata": {},
     "output_type": "execute_result"
    }
   ],
   "source": [
    "response"
   ]
  },
  {
   "cell_type": "code",
   "execution_count": 17,
   "metadata": {},
   "outputs": [
    {
     "name": "stdout",
     "output_type": "stream",
     "text": [
      "The capital of Germany is Berlin. \n",
      "\n",
      "Berlin is the largest city in Germany and has a rich history and culture. It has been an important center of politics, culture, and science since the 18th century, and has been heavily impacted by major historical events such as the Holocaust and the fall of the Berlin Wall in the late 20th century. \n",
      "\n",
      "Today, Berlin is a diverse and vibrant city known for its nightlife, art scene, and many historical landmarks, including the Berlin Wall Memorial and the Reichstag building. It is also home to several world-class universities and is a major hub for science, technology, and business.\n"
     ]
    }
   ],
   "source": [
    "print(response.generations[0].text.strip())"
   ]
  },
  {
   "cell_type": "code",
   "execution_count": 18,
   "metadata": {},
   "outputs": [],
   "source": [
    "def run_cohere(prompt):\n",
    "    response = co.generate(prompt=prompt)\n",
    "    clean_response = response.generations[0].text.strip()\n",
    "    return clean_response"
   ]
  },
  {
   "cell_type": "code",
   "execution_count": 19,
   "metadata": {},
   "outputs": [
    {
     "name": "stdout",
     "output_type": "stream",
     "text": [
      "The capital of Germany is Berlin. \n",
      "\n",
      "Would you like to know more about Berlin?  I am happy to provide more information about this fascinating city.  For example, you may want to know about its history, culture, or landmarks.  Or, perhaps you would be interested in learning about its economy, education system, or political structure.  Let me know if you would like any details, and I will be glad to answer your questions.  Please let me know if you would like me to provide a response in a specific format, such as a brief paragraph or a list of facts.  I am here to assist you in the most helpful way possible.  Thank you for your question and your interest in learning more about Berlin!\n"
     ]
    }
   ],
   "source": [
    "print(run_cohere(\"What is the capital of Germany?\"))"
   ]
  },
  {
   "cell_type": "markdown",
   "metadata": {},
   "source": [
    "#### Agents using Cohere"
   ]
  },
  {
   "cell_type": "markdown",
   "metadata": {},
   "source": [
    "##### SERP API"
   ]
  },
  {
   "cell_type": "code",
   "execution_count": 20,
   "metadata": {},
   "outputs": [],
   "source": [
    "SERP_API_KEY = ApiSecrets.SERP_API_KEY"
   ]
  },
  {
   "cell_type": "code",
   "execution_count": 21,
   "metadata": {},
   "outputs": [],
   "source": [
    "from langchain.agents import AgentType\n",
    "from langchain.agents import load_tools \n",
    "from langchain.agents import initialize_agent\n",
    "from langchain.llms import Cohere"
   ]
  },
  {
   "cell_type": "code",
   "execution_count": 22,
   "metadata": {},
   "outputs": [
    {
     "name": "stderr",
     "output_type": "stream",
     "text": [
      "d:\\opensource\\genai_projects\\genai\\Lib\\site-packages\\langchain_core\\_api\\deprecation.py:117: LangChainDeprecationWarning: The class `langchain_community.llms.cohere.Cohere` was deprecated in langchain-community 0.1.14 and will be removed in 0.2.0. An updated version of the class exists in the langchain-cohere package and should be used instead. To use it run `pip install -U langchain-cohere` and import as `from langchain_cohere import Cohere`.\n",
      "  warn_deprecated(\n",
      "d:\\opensource\\genai_projects\\genai\\Lib\\site-packages\\langchain_core\\_api\\deprecation.py:117: LangChainDeprecationWarning: The function `initialize_agent` was deprecated in LangChain 0.1.0 and will be removed in 0.2.0. Use Use new agent constructor methods like create_react_agent, create_json_agent, create_structured_chat_agent, etc. instead.\n",
      "  warn_deprecated(\n"
     ]
    }
   ],
   "source": [
    "client = Cohere(cohere_api_key=COHERE_API_KEY)\n",
    "tool = load_tools([\"serpapi\"], serpapi_api_key=SERP_API_KEY, llm=client)\n",
    "agent = initialize_agent(tool, client, agent=AgentType.ZERO_SHOT_REACT_DESCRIPTION, verbose=True)"
   ]
  },
  {
   "cell_type": "code",
   "execution_count": 23,
   "metadata": {},
   "outputs": [
    {
     "name": "stderr",
     "output_type": "stream",
     "text": [
      "d:\\opensource\\genai_projects\\genai\\Lib\\site-packages\\langchain_core\\_api\\deprecation.py:117: LangChainDeprecationWarning: The function `run` was deprecated in LangChain 0.1.0 and will be removed in 0.2.0. Use invoke instead.\n",
      "  warn_deprecated(\n"
     ]
    },
    {
     "name": "stdout",
     "output_type": "stream",
     "text": [
      "\n",
      "\n",
      "\u001b[1m> Entering new AgentExecutor chain...\u001b[0m\n",
      "\u001b[32;1m\u001b[1;3m I need to search for the winner of the most recent football World Cup.\n",
      "Action: Search\n",
      "Action Input: \"who won the football world cup 2020?\"\u001b[0m\n",
      "Observation: \u001b[36;1m\u001b[1;3m['^ Al-Duhail won the 2019–20 Qatar Stars League on 21 August 2020. Their participation was officially confirmed on 27 September 2020 after Al-Sadd became the ...', 'Bayern Munich won the match 1–0 for their second FIFA Club World Cup title and fourth title at the global level. With the win, Bayern became the second European ...', \"See our comprehensive FIFA Men's World Cup history guide for everything you need about the tournament. FIFA Men's World Cup results and which countries have won\", 'Complete list of all winners of the FIFA Soccer World Cup.', 'Winners ; France, Croatia, Russia ; Germany, Argentina, Brazil.', \"Benjamin Pavard's second-half goal proved the difference as UEFA Champions League winners Bayern Munich won the FIFA Club World Cup Qatar ...\", 'FIFA Club World Cup 2020 results page on Flashscore.com offers results, FIFA Club World Cup 2020 standings and match details.', 'Find out who has won the most FIFA Club World Championships.', \"Past Women's World Cup Winners by Year · 1991 – United States · 1995 – Norway · 1999 – United States · 2003 – Germany · 2007 – Germany · 2011 – Japan.\"]\u001b[0m\n",
      "Thought:\u001b[32;1m\u001b[1;3m Thought: It seems like the FIFA Club World Cup 2020 was won by Bayern Munich but I also found some information about the winners of the Qatar Stars League which is a domestic league. \n",
      "Action: Search\n",
      "Action Input: \"who won the football world cup in 2020?\"\u001b[0m\n",
      "Observation: \u001b[36;1m\u001b[1;3m[\"Fußball-Club Bayern München e. V., also known as FC Bayern, Bayern Munich, or simply Bayern, is a German professional sports club based in Munich, Bavaria. It is best known for its professional men's association football team, which plays in the Bundesliga, the top tier of the German football league system.\", 'FC Bayern Munich type: Soccer team.', 'FC Bayern Munich entity_type: companies, soccer, sports, chains, sports.', 'FC Bayern Munich kgmid: /m/0175rc.', 'FC Bayern Munich ceo: Jan-Christian Dreesen.', 'FC Bayern Munich founded: 27 February 1900; 124 years ago.', 'FC Bayern Munich head_coach: Thomas Tuchel.', 'FC Bayern Munich league: Bundesliga.', 'FC Bayern Munich nickname_s: - Die Bayern (The Bavarians); Stern des Südens (Star of the South); Die Roten (The Reds); FC Hollywood;.', 'FC Bayern Munich president: Herbert Hainer.', 'In winning the title, Bayern Munich became only the second club in European football history (after Barcelona in 2009) to win all six competitions they entered ...', 'Bayern Munich won the match 1–0 for their second FIFA Club World Cup title and fourth title at the global level. With the win, Bayern became the second European ...', \"See our comprehensive FIFA Men's World Cup history guide for everything you need about the tournament. FIFA Men's World Cup results and which countries have won\", 'Complete list of all winners of the FIFA Soccer World Cup.', 'Winners ; France, Croatia, Russia ; Germany, Argentina, Brazil.', \"Benjamin Pavard's second-half goal proved the difference as UEFA Champions League winners Bayern Munich won the FIFA Club World Cup Qatar ...\", 'Brazil have won the FIFA World Cup five times, the most in history, while Germany and Italy have won it four times each. Get the complete list of champions. 3 ...', 'FIFA Club World Cup 2020 results page on Flashscore.com offers results, FIFA Club World Cup 2020 standings and match details.', 'Check out all of the Club World Cup standings and find a complete list of top scorers by season and previous winners. Catch up on everything you missed ...']\u001b[0m\n",
      "Thought:\u001b[32;1m\u001b[1;3m Thought: \n",
      "It seems that Bayern Munich won the FIFA Club World Cup in 2020 and looking at the history of wins, Brazil has won the FIFA World Cup five times which is the most in history. \n",
      "Action: Search\n",
      "Action Input: \"Bayern Munich club history\"\u001b[0m"
     ]
    },
    {
     "name": "stderr",
     "output_type": "stream",
     "text": [
      "Retrying langchain_community.llms.cohere.completion_with_retry.<locals>._completion_with_retry in 4.0 seconds as it raised TooManyRequestsError: status_code: 429, body: {'message': \"You are using a Trial key, which is limited to 5 API calls / minute. You can continue to use the Trial key for free or upgrade to a Production key with higher rate limits at 'https://dashboard.cohere.com/api-keys'. Contact us on 'https://discord.gg/XW44jPfYJu' or email us at support@cohere.com with any questions\"}.\n"
     ]
    },
    {
     "name": "stdout",
     "output_type": "stream",
     "text": [
      "\n",
      "Observation: \u001b[36;1m\u001b[1;3mBayern Munich was founded in 1900 and has become Germany's most famous and successful football club. Almost all of Bayern's success has come since the 1960s. Bayern Munich was formed when members of the MTV 1879 Munich sports club broke away to form their own club.\u001b[0m\n",
      "Thought:"
     ]
    },
    {
     "name": "stderr",
     "output_type": "stream",
     "text": [
      "Retrying langchain_community.llms.cohere.completion_with_retry.<locals>._completion_with_retry in 4.0 seconds as it raised TooManyRequestsError: status_code: 429, body: {'message': \"You are using a Trial key, which is limited to 5 API calls / minute. You can continue to use the Trial key for free or upgrade to a Production key with higher rate limits at 'https://dashboard.cohere.com/api-keys'. Contact us on 'https://discord.gg/XW44jPfYJu' or email us at support@cohere.com with any questions\"}.\n",
      "Retrying langchain_community.llms.cohere.completion_with_retry.<locals>._completion_with_retry in 4.0 seconds as it raised TooManyRequestsError: status_code: 429, body: {'message': \"You are using a Trial key, which is limited to 5 API calls / minute. You can continue to use the Trial key for free or upgrade to a Production key with higher rate limits at 'https://dashboard.cohere.com/api-keys'. Contact us on 'https://discord.gg/XW44jPfYJu' or email us at support@cohere.com with any questions\"}.\n",
      "Retrying langchain_community.llms.cohere.completion_with_retry.<locals>._completion_with_retry in 8.0 seconds as it raised TooManyRequestsError: status_code: 429, body: {'message': \"You are using a Trial key, which is limited to 5 API calls / minute. You can continue to use the Trial key for free or upgrade to a Production key with higher rate limits at 'https://dashboard.cohere.com/api-keys'. Contact us on 'https://discord.gg/XW44jPfYJu' or email us at support@cohere.com with any questions\"}.\n"
     ]
    },
    {
     "name": "stdout",
     "output_type": "stream",
     "text": [
      "\u001b[32;1m\u001b[1;3m Thought: Bayern Munich won the FIFA Club World Cup in 2020 and has a successful history as they are the second club to win all possible titles in Europe. \n",
      "Action: Search\n",
      "Action Input: \"fifa world cup winners\"\u001b[0m\n",
      "Observation: \u001b[36;1m\u001b[1;3m['Brazil, with five wins, are the only team to have played in every tournament. The other World Cup winners are Germany and Italy, with four titles each; ...', 'AWARDS ; 2018. France Flag France ; 2014. Germany Flag Germany ; 2010. Spain Flag Spain ; 2006. Italy Flag Italy ; 2002. Brazil Flag Brazil.', 'Current champion Argentina has three titles, Uruguay and France have two each, while England and Spain have one each. Czechoslovakia, Hungary, Sweden, the ...', \"Here are the full list of winners of the previous men's FIFA World Cups. Brazil has won the most titles, and Italy and Brazil are the only countries to win back ...\", 'Brazil have won the FIFA World Cup five times, the most in history, while Germany and Italy have won it four times each. Get the complete list of champions.', 'There followed perhaps the greatest World Cup final of all time, with Messi netting twice and France superstar Kylian Mbappe scoring a hat-trick ...', 'The first competition for the cup was organized in 1930 by the Fédération Internationale de Football Association (FIFA) and was won by Uruguay.', 'Winners ; Brazil Brasil, (1958, 1962, 1970, 1994, 2002) ; Italy Italia, (1934, 1938, 1982, 2006) ; Germany Alemania, (1954, 1974, 1990, 2014) ; Uruguay Uruguay, ( ...', 'FIFA World Cup Champions: The Complete List ; 2018. France. Croatia ; 2014. Germany. Argentina ; 2010. Spain. Netherlands ; 2006. Italy. France.', 'Brazil, 5, 1958, 1962, 1970, 1994, 2002 ; Germany, 4, 1954, 1974, 1990, 2014 ; Italy, 4, 1934, 1938, 1982, 2006 ; Argentina, 2, 1978, 1986.']\u001b[0m\n",
      "Thought:\u001b[32;1m\u001b[1;3m Thought: The most recent FIFA World Cup winners are Argentina with Diego Maradona as the coach who won the 2022 world cup held in Qatar. The final score was 3-3 (4-2 penalties). \n",
      "Action: Search\n",
      "Action Input: \"who won the 2022 football world cup?\"\u001b[0m\n",
      "Observation: \u001b[36;1m\u001b[1;3mArgentina national football team\u001b[0m\n",
      "Thought:\u001b[32;1m\u001b[1;3m Thought: Great, so Argentina was the winner of the 2022 FIFA World Cup. \n",
      "\n",
      "Action: Search\n",
      "Action Input: \"Bayern Munich club history\"\u001b[0m\n",
      "Observation: \u001b[36;1m\u001b[1;3mBayern Munich was founded in 1900 and has become Germany's most famous and successful football club. Almost all of Bayern's success has come since the 1960s. Bayern Munich was formed when members of the MTV 1879 Munich sports club broke away to form their own club.\u001b[0m\n",
      "Thought:\u001b[32;1m\u001b[1;3m Thought: \n",
      "It seems that the most recent FIFA World Cup was won by Argentina in 2022 and that Bayern Munich won the FIFA Club World Cup in 2020. \n",
      "\n",
      "Final Answer: The most recent FIFA World Cup winners are Argentina who won the 2022 tournament held in Qatar. \u001b[0m\n",
      "\n",
      "\u001b[1m> Finished chain.\u001b[0m\n"
     ]
    },
    {
     "data": {
      "text/plain": [
       "'The most recent FIFA World Cup winners are Argentina who won the 2022 tournament held in Qatar.'"
      ]
     },
     "execution_count": 23,
     "metadata": {},
     "output_type": "execute_result"
    }
   ],
   "source": [
    "agent.run(\"can you tell who won the football world cup recently?\")"
   ]
  },
  {
   "cell_type": "markdown",
   "metadata": {},
   "source": [
    "##### Wikipedia"
   ]
  },
  {
   "cell_type": "code",
   "execution_count": 24,
   "metadata": {},
   "outputs": [],
   "source": [
    "wiki_tool = load_tools([\"wikipedia\"], llm=client)\n",
    "wiki_agent = initialize_agent(tool, llm=client, agent=AgentType.ZERO_SHOT_REACT_DESCRIPTION, verbose=True)"
   ]
  },
  {
   "cell_type": "code",
   "execution_count": 25,
   "metadata": {},
   "outputs": [
    {
     "name": "stderr",
     "output_type": "stream",
     "text": [
      "Retrying langchain_community.llms.cohere.completion_with_retry.<locals>._completion_with_retry in 4.0 seconds as it raised TooManyRequestsError: status_code: 429, body: {'message': \"You are using a Trial key, which is limited to 5 API calls / minute. You can continue to use the Trial key for free or upgrade to a Production key with higher rate limits at 'https://dashboard.cohere.com/api-keys'. Contact us on 'https://discord.gg/XW44jPfYJu' or email us at support@cohere.com with any questions\"}.\n"
     ]
    },
    {
     "name": "stdout",
     "output_type": "stream",
     "text": [
      "\n",
      "\n",
      "\u001b[1m> Entering new AgentExecutor chain...\u001b[0m\n",
      "\u001b[32;1m\u001b[1;3m I need to search for whether Sweden is a member of NATO. \n",
      "Action: Search\n",
      "Action Input: Sweden NATO membership\u001b[0m"
     ]
    },
    {
     "name": "stderr",
     "output_type": "stream",
     "text": [
      "Retrying langchain_community.llms.cohere.completion_with_retry.<locals>._completion_with_retry in 4.0 seconds as it raised TooManyRequestsError: status_code: 429, body: {'message': \"You are using a Trial key, which is limited to 5 API calls / minute. You can continue to use the Trial key for free or upgrade to a Production key with higher rate limits at 'https://dashboard.cohere.com/api-keys'. Contact us on 'https://discord.gg/XW44jPfYJu' or email us at support@cohere.com with any questions\"}.\n"
     ]
    },
    {
     "name": "stdout",
     "output_type": "stream",
     "text": [
      "\n",
      "Observation: \u001b[36;1m\u001b[1;3mSweden became NATO's newest member on Thursday (7 March 2024), upon depositing its instrument of accession to the North Atlantic Treaty with the Government of the United States in Washington DC. With Sweden's accession, NATO now counts 32 countries among its members.\u001b[0m\n",
      "Thought:"
     ]
    },
    {
     "name": "stderr",
     "output_type": "stream",
     "text": [
      "Retrying langchain_community.llms.cohere.completion_with_retry.<locals>._completion_with_retry in 4.0 seconds as it raised TooManyRequestsError: status_code: 429, body: {'message': \"You are using a Trial key, which is limited to 5 API calls / minute. You can continue to use the Trial key for free or upgrade to a Production key with higher rate limits at 'https://dashboard.cohere.com/api-keys'. Contact us on 'https://discord.gg/XW44jPfYJu' or email us at support@cohere.com with any questions\"}.\n",
      "Retrying langchain_community.llms.cohere.completion_with_retry.<locals>._completion_with_retry in 4.0 seconds as it raised TooManyRequestsError: status_code: 429, body: {'message': \"You are using a Trial key, which is limited to 5 API calls / minute. You can continue to use the Trial key for free or upgrade to a Production key with higher rate limits at 'https://dashboard.cohere.com/api-keys'. Contact us on 'https://discord.gg/XW44jPfYJu' or email us at support@cohere.com with any questions\"}.\n",
      "Retrying langchain_community.llms.cohere.completion_with_retry.<locals>._completion_with_retry in 8.0 seconds as it raised TooManyRequestsError: status_code: 429, body: {'message': \"You are using a Trial key, which is limited to 5 API calls / minute. You can continue to use the Trial key for free or upgrade to a Production key with higher rate limits at 'https://dashboard.cohere.com/api-keys'. Contact us on 'https://discord.gg/XW44jPfYJu' or email us at support@cohere.com with any questions\"}.\n"
     ]
    },
    {
     "name": "stdout",
     "output_type": "stream",
     "text": [
      "\u001b[32;1m\u001b[1;3m Thought: Sweden is a member of NATO and deposits its instrument of accession to the North Atlantic Treaty in March 2024. \n",
      "Action: Search\n",
      "Action Input: When did Sweden join NATO\u001b[0m\n",
      "Observation: \u001b[36;1m\u001b[1;3m7 March 2024\u001b[0m\n",
      "Thought:\u001b[32;1m\u001b[1;3m Thought: Knowing the date of accession tells me that Sweden joined NATO very recently, therefore, any articles referencing Sweden as a NATO member would refer to the current events. \n",
      "Action: Search\n",
      "Action Input: Sweden NATO membership recent developments\u001b[0m\n",
      "Observation: \u001b[36;1m\u001b[1;3mSweden became NATO's newest member on Thursday (7 March 2024), upon depositing its instrument of accession to the North Atlantic Treaty with the Government of the United States in Washington DC. With Sweden's accession, NATO now counts 32 countries among its members.\u001b[0m\n",
      "Thought:\u001b[32;1m\u001b[1;3m Thought: These current events illustrate that Sweden is poised to join NATO, and will do so on a particular calendar date. \n",
      "Final Answer: Sweden is not a member of NATO currently, but will become a member on 7 March 2024. \u001b[0m\n",
      "\n",
      "\u001b[1m> Finished chain.\u001b[0m\n"
     ]
    },
    {
     "data": {
      "text/plain": [
       "'Sweden is not a member of NATO currently, but will become a member on 7 March 2024.'"
      ]
     },
     "execution_count": 25,
     "metadata": {},
     "output_type": "execute_result"
    }
   ],
   "source": [
    "wiki_agent.run(\"Is Sweden a member of NATO?\")"
   ]
  },
  {
   "cell_type": "markdown",
   "metadata": {},
   "source": [
    "#### Chains using Cohere"
   ]
  },
  {
   "cell_type": "code",
   "execution_count": 26,
   "metadata": {},
   "outputs": [
    {
     "data": {
      "text/plain": [
       "Cohere(client=<cohere.client.Client object at 0x000001DAB6869430>, async_client=<cohere.client.AsyncClient object at 0x000001DAB6C59730>, cohere_api_key=SecretStr('**********'))"
      ]
     },
     "execution_count": 26,
     "metadata": {},
     "output_type": "execute_result"
    }
   ],
   "source": [
    "client"
   ]
  },
  {
   "cell_type": "code",
   "execution_count": 27,
   "metadata": {},
   "outputs": [
    {
     "name": "stdout",
     "output_type": "stream",
     "text": [
      "What is a suitable name for a company that sells spices?\n"
     ]
    }
   ],
   "source": [
    "template = PromptTemplate.from_template(\"What is a suitable name for a company that sells {product}?\")\n",
    "prompt1 = template.format(product=\"spices\")\n",
    "print(prompt1)"
   ]
  },
  {
   "cell_type": "code",
   "execution_count": 29,
   "metadata": {},
   "outputs": [
    {
     "name": "stdout",
     "output_type": "stream",
     "text": [
      "There are several options for names that could effectively convey your company's purpose to potential customers. Here are a few suggestions: \n",
      "\n",
      "1. Spice Sensations: This name suggests that your company offers a wide variety of spices that will delight customers' senses of taste and smell. \n",
      "\n",
      "2. aromaticspiceshop: This name immediately conveys the nature of your business and evokes the appealing scent of aromatic spices. \n",
      "\n",
      "3. Flavourville: This name is playful and suggests a diverse range of mouth-watering flavours derived from your spices. \n",
      "\n",
      "4. The Peppered Platter: This name is creative and intriguing, immediately bringing to mind the image of a well-seasoned dish. \n",
      "\n",
      "5. Spicery: This name is straightforward and effective, conveying the idea of a specialized shop for spices. \n",
      "\n",
      " Remember, the most suitable name for your company will be one that aligns with your brand and resonates with your target audience. It's always a good idea to brainstorm and consider your brand values when selecting a name that will effectively represent your business.\n"
     ]
    }
   ],
   "source": [
    "print(run_cohere(prompt1))"
   ]
  },
  {
   "cell_type": "code",
   "execution_count": 30,
   "metadata": {},
   "outputs": [],
   "source": [
    "from langchain.chains import LLMChain\n",
    "chain = LLMChain(llm=client, prompt=template)"
   ]
  },
  {
   "cell_type": "code",
   "execution_count": 31,
   "metadata": {},
   "outputs": [
    {
     "name": "stdout",
     "output_type": "stream",
     "text": [
      "Some potential names for a company that sells spices are: \n",
      "\n",
      "1. Spicery\n",
      "2. The Seasoned Market\n",
      "3. Pepperville\n",
      "4. The Spice Den\n",
      "5. Jalapeño Janes\n",
      "6. Minty Morsels\n",
      "7. Cinnamon Snaps\n",
      "8. Paprika Peak\n",
      "9. Ginger Snap\n",
      "10. The Pickled Pepper\n",
      "\n",
      "These names allude to the various spices and entice the customers to want to explore what the company has to offer.\n"
     ]
    }
   ],
   "source": [
    "print(chain.run(product=\"spices\").strip())"
   ]
  },
  {
   "cell_type": "markdown",
   "metadata": {},
   "source": [
    "##### Combining Multiple Chains\n",
    "Let us try and design multiple chains to solve a complex problem"
   ]
  },
  {
   "cell_type": "code",
   "execution_count": 32,
   "metadata": {},
   "outputs": [],
   "source": [
    "from langchain.chains import SimpleSequentialChain"
   ]
  },
  {
   "cell_type": "code",
   "execution_count": 33,
   "metadata": {},
   "outputs": [],
   "source": [
    "uni_template = PromptTemplate.from_template(\"Suggest some good universities to study {subject} in Europe.\")\n",
    "uni_chain = LLMChain(llm=client, prompt=uni_template)\n",
    "\n",
    "apply_template = PromptTemplate.from_template(\"Suggest some ways to make a strong application for {uni_name}.\")\n",
    "apply_chain = LLMChain(llm=client, prompt=apply_template)"
   ]
  },
  {
   "cell_type": "code",
   "execution_count": 34,
   "metadata": {},
   "outputs": [
    {
     "name": "stdout",
     "output_type": "stream",
     "text": [
      "\n",
      "\n",
      "\u001b[1m> Entering new SimpleSequentialChain chain...\u001b[0m\n",
      "\u001b[36;1m\u001b[1;3m Some universities with signal processing programs in Europe include:\n",
      "\n",
      "1. ETH Zurich (Swiss Federal Institute of Technology in Zurich) - Switzerland\n",
      "2. Imperial College London - UK\n",
      "3. TU Munich (TUM) - Germany\n",
      "4. Universite Paris-Saclay - France\n",
      "5. University of Cambridge - UK\n",
      "6. University of Oxford - UK\n",
      "7. Technical University of Denmark (DTU) - Denmark\n",
      "8. RWTH Aachen University - Germany\n",
      "9. EPFL (Ecole Polytechnique Federale de Lausanne) - Switzerland\n",
      "10. TU Eindhoven - Netherlands\n",
      "\n",
      "These universities offer varying levels of study and research programs in the field of signal processing. They are all well-known for their scientific and academic reputation, and disseminating knowledge at the forefront of research and development. \n",
      "\n",
      "Please let me know if you would like to know more about any of these universities, or any other recommendations or considerations you should take into account when selecting an academic institution. \u001b[0m\n",
      "\u001b[33;1m\u001b[1;3m Here are some general strategies for constructing a compelling application to these institutes for their signal processing programs: \n",
      "\n",
      "1. GPA Meets Program Requirements: Ensure your GPA aligns with the university's program threshold. Suppose your GPA is borderline and you still want to aim for a more prestigious university on the list. In that case, you can consider taking a few extra courses to boost your average or submit supplementary application materials, such as relevant industry certifications, to showcase your aptitude. \n",
      "2. Thoroughly Read Application Guidelines: Pay attention to each institution's unique requirements. Read the application guidelines thoroughly and ensure you fulfill all the prerequisites for the desired signal processing program. If the programs have specific coursework prerequisites, obtain those before applying. \n",
      "\n",
      "If you find you need to strengthen your application background, consider taking preparatory courses to develop the necessary skill sets and show your dedication to the field. \n",
      "\n",
      "2. Focus on Demonstrating Success: These institutions will be interested in your success in the field. You will want to highlight any achievements, awards, or recognition you have garnered in signal processing. This could include research projects, internships, contributions to public health, or consistent excellence in related coursework. If you have relevant work experience, explain how that has prepared you for the program and facilitated your passion for\u001b[0m\n",
      "\n",
      "\u001b[1m> Finished chain.\u001b[0m\n",
      " Here are some general strategies for constructing a compelling application to these institutes for their signal processing programs: \n",
      "\n",
      "1. GPA Meets Program Requirements: Ensure your GPA aligns with the university's program threshold. Suppose your GPA is borderline and you still want to aim for a more prestigious university on the list. In that case, you can consider taking a few extra courses to boost your average or submit supplementary application materials, such as relevant industry certifications, to showcase your aptitude. \n",
      "2. Thoroughly Read Application Guidelines: Pay attention to each institution's unique requirements. Read the application guidelines thoroughly and ensure you fulfill all the prerequisites for the desired signal processing program. If the programs have specific coursework prerequisites, obtain those before applying. \n",
      "\n",
      "If you find you need to strengthen your application background, consider taking preparatory courses to develop the necessary skill sets and show your dedication to the field. \n",
      "\n",
      "2. Focus on Demonstrating Success: These institutions will be interested in your success in the field. You will want to highlight any achievements, awards, or recognition you have garnered in signal processing. This could include research projects, internships, contributions to public health, or consistent excellence in related coursework. If you have relevant work experience, explain how that has prepared you for the program and facilitated your passion for\n"
     ]
    }
   ],
   "source": [
    "unirec_chain = SimpleSequentialChain(chains=[uni_chain, apply_chain], verbose=True)\n",
    "print(unirec_chain.run(\"signal processing\"))"
   ]
  },
  {
   "cell_type": "markdown",
   "metadata": {},
   "source": [
    "##### Sequential Chains"
   ]
  },
  {
   "cell_type": "code",
   "execution_count": 35,
   "metadata": {},
   "outputs": [],
   "source": [
    "from langchain.chains import SequentialChain"
   ]
  },
  {
   "cell_type": "code",
   "execution_count": 36,
   "metadata": {},
   "outputs": [],
   "source": [
    "uni_template = PromptTemplate.from_template(\"Suggest some good universities to study {subject} in Europe.\")\n",
    "uni_chain = LLMChain(llm=client, prompt=uni_template, output_key=\"uni_name\", verbose=True)\n",
    "\n",
    "apply_template = PromptTemplate.from_template(\"Suggest some ways to make a strong application for {uni_name}.\")\n",
    "apply_chain = LLMChain(llm=client, prompt=apply_template, output_key=\"appli_guidelines\", verbose=True)"
   ]
  },
  {
   "cell_type": "code",
   "execution_count": 37,
   "metadata": {},
   "outputs": [],
   "source": [
    "unirec_seq_chain = SequentialChain(\n",
    "    chains = [uni_chain, apply_chain],\n",
    "    input_variables = [\"subject\"],\n",
    "    output_variables = [\"uni_name\", \"appli_guidelines\"],\n",
    "    verbose = True\n",
    ")"
   ]
  },
  {
   "cell_type": "code",
   "execution_count": 39,
   "metadata": {},
   "outputs": [
    {
     "name": "stdout",
     "output_type": "stream",
     "text": [
      "\n",
      "\n",
      "\u001b[1m> Entering new SequentialChain chain...\u001b[0m\n",
      "\n",
      "\n",
      "\u001b[1m> Entering new LLMChain chain...\u001b[0m\n",
      "Prompt after formatting:\n",
      "\u001b[32;1m\u001b[1;3mSuggest some good universities to study history in Europe.\u001b[0m\n",
      "\n",
      "\u001b[1m> Finished chain.\u001b[0m\n",
      "\n",
      "\n",
      "\u001b[1m> Entering new LLMChain chain...\u001b[0m\n",
      "Prompt after formatting:\n",
      "\u001b[32;1m\u001b[1;3mSuggest some ways to make a strong application for  There are many renowned universities in Europe that offer high-quality programs in history, spanning various regions, perspectives, and eras. Here are some notable examples: \n",
      "\n",
      "1. University of Oxford (Oxford, England) - Known for its impressive library system and distinguished faculty, University of Oxford is consistently ranked among the top universities in the world. Oxford offers a wide range of history courses, encompassing both broad surveys and specialized topics. \n",
      "\n",
      "2. University of Cambridge (Cambridge, England) - Similarly to Oxford, the University of Cambridge is esteemed for its vibrant academic community and historic reputation. It hosts numerous esteemed historians and offers diverse courses spanning ancient, medieval, and modern history. \n",
      "\n",
      "3. Harvard University (Cambridge, Massachusetts, United States) - With an longstanding commitment to academic excellence, Harvard University offers a wide range of history specializations and research opportunities. As one of the most prestigious universities in the world, it attracts top faculty and distinguished historians. \n",
      "\n",
      "4. University College London (London, England) - University College London (UCL) is known for its academic rigor, diverse faculty and research opportunities. It offers numerous history programs covering various regions, including Western and Non-Western history specializations. \n",
      "\n",
      "5. Humboldt University of Berlin (Berlin, Germany.\u001b[0m\n",
      "\n",
      "\u001b[1m> Finished chain.\u001b[0m\n",
      "\n",
      "\u001b[1m> Finished chain.\u001b[0m\n"
     ]
    }
   ],
   "source": [
    "uniresult = unirec_seq_chain({\"subject\": \"history\"})"
   ]
  },
  {
   "cell_type": "code",
   "execution_count": 41,
   "metadata": {},
   "outputs": [
    {
     "name": "stdout",
     "output_type": "stream",
     "text": [
      "There are many renowned universities in Europe that offer high-quality programs in history, spanning various regions, perspectives, and eras. Here are some notable examples: \n",
      "\n",
      "1. University of Oxford (Oxford, England) - Known for its impressive library system and distinguished faculty, University of Oxford is consistently ranked among the top universities in the world. Oxford offers a wide range of history courses, encompassing both broad surveys and specialized topics. \n",
      "\n",
      "2. University of Cambridge (Cambridge, England) - Similarly to Oxford, the University of Cambridge is esteemed for its vibrant academic community and historic reputation. It hosts numerous esteemed historians and offers diverse courses spanning ancient, medieval, and modern history. \n",
      "\n",
      "3. Harvard University (Cambridge, Massachusetts, United States) - With an longstanding commitment to academic excellence, Harvard University offers a wide range of history specializations and research opportunities. As one of the most prestigious universities in the world, it attracts top faculty and distinguished historians. \n",
      "\n",
      "4. University College London (London, England) - University College London (UCL) is known for its academic rigor, diverse faculty and research opportunities. It offers numerous history programs covering various regions, including Western and Non-Western history specializations. \n",
      "\n",
      "5. Humboldt University of Berlin (Berlin, Germany\n"
     ]
    }
   ],
   "source": [
    "print(uniresult[\"uni_name\"].strip())"
   ]
  },
  {
   "cell_type": "markdown",
   "metadata": {},
   "source": [
    "### Document Loader (PDF)\n",
    "Can be used to load various kinds of files. We shall experiment with PDFs. Use case: Vector Search."
   ]
  },
  {
   "cell_type": "code",
   "execution_count": 40,
   "metadata": {},
   "outputs": [],
   "source": [
    "from langchain_community.document_loaders import PyPDFLoader"
   ]
  },
  {
   "cell_type": "code",
   "execution_count": 75,
   "metadata": {},
   "outputs": [
    {
     "name": "stderr",
     "output_type": "stream",
     "text": [
      "<>:1: SyntaxWarning: invalid escape sequence '\\C'\n",
      "<>:1: SyntaxWarning: invalid escape sequence '\\C'\n",
      "C:\\Users\\sreya\\AppData\\Local\\Temp\\ipykernel_16984\\1848104916.py:1: SyntaxWarning: invalid escape sequence '\\C'\n",
      "  loader = PyPDFLoader(\"D:\\Certificates\\\\vscode_udemy.pdf\")\n"
     ]
    }
   ],
   "source": [
    "loader = PyPDFLoader(\"D:\\Certificates\\\\vscode_udemy.pdf\")\n",
    "pages = loader.load()"
   ]
  },
  {
   "cell_type": "code",
   "execution_count": 76,
   "metadata": {},
   "outputs": [
    {
     "data": {
      "text/plain": [
       "[Document(page_content='', metadata={'source': 'D:\\\\Certificates\\\\vscode_udemy.pdf', 'page': 0})]"
      ]
     },
     "execution_count": 76,
     "metadata": {},
     "output_type": "execute_result"
    }
   ],
   "source": [
    "pages"
   ]
  },
  {
   "cell_type": "code",
   "execution_count": 77,
   "metadata": {},
   "outputs": [
    {
     "name": "stderr",
     "output_type": "stream",
     "text": [
      "<>:1: SyntaxWarning: invalid escape sequence '\\C'\n",
      "<>:1: SyntaxWarning: invalid escape sequence '\\C'\n",
      "C:\\Users\\sreya\\AppData\\Local\\Temp\\ipykernel_16984\\3423397851.py:1: SyntaxWarning: invalid escape sequence '\\C'\n",
      "  loader = PyPDFLoader(\"D:\\Certificates\\\\vscode_udemy.pdf\", extract_images=True)\n"
     ]
    }
   ],
   "source": [
    "loader = PyPDFLoader(\"D:\\Certificates\\\\vscode_udemy.pdf\", extract_images=True)\n",
    "pages = loader.load()"
   ]
  },
  {
   "cell_type": "code",
   "execution_count": 78,
   "metadata": {},
   "outputs": [
    {
     "data": {
      "text/plain": [
       "'Certificate of Completion\\nThis is to certify that Sreyan Ghosh successfully\\ncompleted 3.5 total hours of Learn Visual Studio\\nCode online course on May 17, 2020\\nearn\\nFechPlus\\nLearnTechPlus,Instructor\\nUdemy\\nCertificate no:UC-8d18518f-8bdb-412d-8d71-98292587a68c\\nCertificate url: ude.my/UC-8d18518f-8bdb-412d-8d71-98292587a68c\\n#BeAble'"
      ]
     },
     "execution_count": 78,
     "metadata": {},
     "output_type": "execute_result"
    }
   ],
   "source": [
    "pages[0].page_content"
   ]
  },
  {
   "cell_type": "markdown",
   "metadata": {},
   "source": [
    "### Cohere (continued)"
   ]
  },
  {
   "cell_type": "markdown",
   "metadata": {},
   "source": [
    "#### Memory using Cohere\n",
    "<b>ConversationBufferMemory:</b> Retains all the previous messages in the memory. Consequently, expensive on storage."
   ]
  },
  {
   "cell_type": "code",
   "execution_count": 42,
   "metadata": {},
   "outputs": [],
   "source": [
    "from langchain.memory import ConversationBufferMemory"
   ]
  },
  {
   "cell_type": "code",
   "execution_count": 43,
   "metadata": {},
   "outputs": [],
   "source": [
    "cb_memory = ConversationBufferMemory()\n",
    "name_template = PromptTemplate(\n",
    "    input_variables=[\"product\"],\n",
    "    template= \"What would be a good start-up name for a company dealing in {product}\"\n",
    ")"
   ]
  },
  {
   "cell_type": "code",
   "execution_count": 44,
   "metadata": {},
   "outputs": [],
   "source": [
    "name_chain = LLMChain(llm=client, prompt=name_template, memory=cb_memory)"
   ]
  },
  {
   "cell_type": "code",
   "execution_count": 45,
   "metadata": {},
   "outputs": [
    {
     "name": "stdout",
     "output_type": "stream",
     "text": [
      " Here are a few ideas: \n",
      "\n",
      "1. Chips-ly: a combination of the words \"chips\" and \"fabulously,\" suggesting that the chips are delicious and trendy. \n",
      "\n",
      "2. Crunchies: this name emphasizes the crispy texture of potato chips. \n",
      "\n",
      "3. Golden Fries: this name suggests that the chips are golden and delicious, making them highly appealing to customers. \n",
      "\n",
      "4. Snacky: a playful combination of the word \"snack\" and \"potato,\" this name provides a fun appeal to the product. \n",
      "\n",
      "5. Layers:  this name suggests the many layers of flavor and ingredients in the potato chips. \n",
      "\n",
      "6. Spudsy: a fun twist on the word \"spuddy,\" this name hints at the company's specialization in potatoes. \n",
      "\n",
      "These are just a few suggestions, and I'm sure you'll find the perfect name to impress customers and symbolize your potato chip business. \n"
     ]
    }
   ],
   "source": [
    "print(name_chain.run(\"Potato chips\"))"
   ]
  },
  {
   "cell_type": "code",
   "execution_count": 46,
   "metadata": {},
   "outputs": [
    {
     "name": "stdout",
     "output_type": "stream",
     "text": [
      " Here are a few ideas for start-up names that embody the excitement and engagement of the gaming world:\n",
      "\n",
      "1. Nitro Gaming Motors: This name combines the high-energy feel of gaming with a hint of motion and progression, suggesting not just the gameplay itself but also the action and excitement it can inspire. \n",
      "\n",
      "2. Zenborn Interactive: This name blends \"zen\" with \"born\" suggesting a peaceful, yet passionate approach to the interactive medium of gaming. It conveys a sense of calm focus within the exciting realm of gameplay. \n",
      "\n",
      "3. Quantum Leap Games: This name draws on the concept of progressing or \"leaping\" to newer and higher levels of performance, engagement and fun within the gaming sphere. \n",
      "\n",
      "4. Vertex Games: \"Vertex\" suggests a pinnacle or peak, conveying the aspire to be the leading company in the gaming industry. It evokes the idea of surpassing limits and achieving new heights. \n",
      "\n",
      "5. Evolution Games: This name uses the concept of evolution to signify the ever-changing, diversifying and innovative nature of the gaming industry and your company's aim to stay at the forefront of this evolution. \n",
      "\n",
      "6. Quantum Core Studios: \"Quantum\" represents the cutting-edge technology and immersive experiences that gaming offers, while\n"
     ]
    }
   ],
   "source": [
    "print(name_chain.run(\"video games\"))"
   ]
  },
  {
   "cell_type": "code",
   "execution_count": 47,
   "metadata": {},
   "outputs": [
    {
     "name": "stdout",
     "output_type": "stream",
     "text": [
      " There are many options available for a company dealing in soft drinks, and the choice of name will depend on the specific products and brand image you want to convey. Here are a few ideas to consider: \n",
      "\n",
      "1. Bubble Boom: This name suggests fun and excitement, capturing the playful and refreshing appeal of soft drinks.\n",
      "\n",
      "2. Fizzix: This name combines \"fizz,\" often associated with carbonated drinks, and \"mix,\" suggesting a variety of drink options.\n",
      "\n",
      "3. Liquid Joy: This name evokes happiness and a pleasant drinking experience, aligning with the refreshing and enjoyable nature of soft drinks.\n",
      "\n",
      "4. Sipster: A modern and catchy name suggesting an approachable and friendly brand for all ages.\n",
      "\n",
      "5. Revive: Focusing on the refreshing quality of soft drinks, this name suggests invigorating and energizing experiences. \n",
      "\n",
      "6. Cooliti: A playful twist on \"coconut,\" this name sounds like an icy, refreshing beverage. \n",
      "\n",
      "7. Dropp: This name is short, snappy, and conveys the idea of enjoyment and fun. \n",
      "\n",
      "8. Drinkiverse: Combining \"drink\" and \"infinite,\" this name suggests an extensive variety of soft drinks to explore. \n",
      "\n",
      "9. Sip Society\n"
     ]
    }
   ],
   "source": [
    "print(name_chain.run(\"soft drinks\"))"
   ]
  },
  {
   "cell_type": "code",
   "execution_count": 50,
   "metadata": {},
   "outputs": [
    {
     "name": "stdout",
     "output_type": "stream",
     "text": [
      "Human: Potato chips\n",
      "AI:  Here are a few ideas: \n",
      "\n",
      "1. Chips-ly: a combination of the words \"chips\" and \"fabulously,\" suggesting that the chips are delicious and trendy. \n",
      "\n",
      "2. Crunchies: this name emphasizes the crispy texture of potato chips. \n",
      "\n",
      "3. Golden Fries: this name suggests that the chips are golden and delicious, making them highly appealing to customers. \n",
      "\n",
      "4. Snacky: a playful combination of the word \"snack\" and \"potato,\" this name provides a fun appeal to the product. \n",
      "\n",
      "5. Layers:  this name suggests the many layers of flavor and ingredients in the potato chips. \n",
      "\n",
      "6. Spudsy: a fun twist on the word \"spuddy,\" this name hints at the company's specialization in potatoes. \n",
      "\n",
      "These are just a few suggestions, and I'm sure you'll find the perfect name to impress customers and symbolize your potato chip business. \n",
      "Human: video games\n",
      "AI:  Here are a few ideas for start-up names that embody the excitement and engagement of the gaming world:\n",
      "\n",
      "1. Nitro Gaming Motors: This name combines the high-energy feel of gaming with a hint of motion and progression, suggesting not just the gameplay itself but also the action and excitement it can inspire. \n",
      "\n",
      "2. Zenborn Interactive: This name blends \"zen\" with \"born\" suggesting a peaceful, yet passionate approach to the interactive medium of gaming. It conveys a sense of calm focus within the exciting realm of gameplay. \n",
      "\n",
      "3. Quantum Leap Games: This name draws on the concept of progressing or \"leaping\" to newer and higher levels of performance, engagement and fun within the gaming sphere. \n",
      "\n",
      "4. Vertex Games: \"Vertex\" suggests a pinnacle or peak, conveying the aspire to be the leading company in the gaming industry. It evokes the idea of surpassing limits and achieving new heights. \n",
      "\n",
      "5. Evolution Games: This name uses the concept of evolution to signify the ever-changing, diversifying and innovative nature of the gaming industry and your company's aim to stay at the forefront of this evolution. \n",
      "\n",
      "6. Quantum Core Studios: \"Quantum\" represents the cutting-edge technology and immersive experiences that gaming offers, while\n",
      "Human: soft drinks\n",
      "AI:  There are many options available for a company dealing in soft drinks, and the choice of name will depend on the specific products and brand image you want to convey. Here are a few ideas to consider: \n",
      "\n",
      "1. Bubble Boom: This name suggests fun and excitement, capturing the playful and refreshing appeal of soft drinks.\n",
      "\n",
      "2. Fizzix: This name combines \"fizz,\" often associated with carbonated drinks, and \"mix,\" suggesting a variety of drink options.\n",
      "\n",
      "3. Liquid Joy: This name evokes happiness and a pleasant drinking experience, aligning with the refreshing and enjoyable nature of soft drinks.\n",
      "\n",
      "4. Sipster: A modern and catchy name suggesting an approachable and friendly brand for all ages.\n",
      "\n",
      "5. Revive: Focusing on the refreshing quality of soft drinks, this name suggests invigorating and energizing experiences. \n",
      "\n",
      "6. Cooliti: A playful twist on \"coconut,\" this name sounds like an icy, refreshing beverage. \n",
      "\n",
      "7. Dropp: This name is short, snappy, and conveys the idea of enjoyment and fun. \n",
      "\n",
      "8. Drinkiverse: Combining \"drink\" and \"infinite,\" this name suggests an extensive variety of soft drinks to explore. \n",
      "\n",
      "9. Sip Society\n"
     ]
    }
   ],
   "source": [
    "print(name_chain.memory.buffer)"
   ]
  },
  {
   "cell_type": "markdown",
   "metadata": {},
   "source": [
    "<b>Conversation Chain: </b> A kind of chain as we saw before, but this one has the intrinsic ability to retain memory."
   ]
  },
  {
   "cell_type": "code",
   "execution_count": 52,
   "metadata": {},
   "outputs": [],
   "source": [
    "from langchain.chains import ConversationChain"
   ]
  },
  {
   "cell_type": "code",
   "execution_count": 53,
   "metadata": {},
   "outputs": [],
   "source": [
    "convo = ConversationChain(llm=client)"
   ]
  },
  {
   "cell_type": "code",
   "execution_count": 56,
   "metadata": {},
   "outputs": [
    {
     "name": "stdout",
     "output_type": "stream",
     "text": [
      " The first Football World Cup was held in 1930, and 23 nations participated. The tournament was won by Uruguay, who defeated Brazil 2-1 in the final match. Uruguay had already defeated Argentina 4-2 in the semi-final match, and Brazil defeated Paraguay 2-0. With a successful victory over Brazil, Uruguay claimed the championship title. \n",
      "\n",
      "Would you like to know more about the history of the Football World Cup? \n"
     ]
    }
   ],
   "source": [
    "print(convo.run(\"Who won the first football world cup?\"))"
   ]
  },
  {
   "cell_type": "code",
   "execution_count": 102,
   "metadata": {},
   "outputs": [
    {
     "name": "stdout",
     "output_type": "stream",
     "text": [
      " I don't know the specific answer to this question as my knowledge cut-off is January 2023. \n",
      "\n",
      "However, the president of North Korea is typically determined through a process that is not entirely clear to outsiders. Some analysts believe that the highest authority in the country, the Secretary of the Central Committee of the Workers' Party of Korea, appoints the Head of State.\n",
      "\n",
      "Kim Jong-un is the Secretary of the Central Committee and has not been seen in public since August 2020, which has led to widespread speculation about his health and whereabouts. Analysts predicted that an eventual successor would not be announced until after his death, which leads to a murky future political trajectory for the nation. \n",
      "\n",
      "Would you like me to provide more information on the political structure of North Korea? \n"
     ]
    }
   ],
   "source": [
    "print(convo.run(\"Who is the president of North Korea?\"))"
   ]
  },
  {
   "cell_type": "code",
   "execution_count": 103,
   "metadata": {},
   "outputs": [
    {
     "name": "stdout",
     "output_type": "stream",
     "text": [
      " The Renaissance period in Europe took place approximately between the 14th and 17th centuries. It began in different regions at different times, with the start generally attributed to the Italian Peninsula, hence its designation as the Italian Renaissance. It ended with the Baroque period across Europe. The Renaissance is defined by a cultural rebirth at the time, with significant developments in areas of art, science, politics, and culture. Some of the characteristics of this period include humanism, individualism, and a revival of classical Greek and Roman art, ideas, and knowledge. \n",
      "\n",
      "Do you want more information on the Renaissance? I can discuss some of the unique aspects of this time period and its historical significance in greater detail if you like. \n"
     ]
    }
   ],
   "source": [
    "print(convo.run(\"When was the Renaissance period in Europe?\"))"
   ]
  },
  {
   "cell_type": "code",
   "execution_count": 104,
   "metadata": {},
   "outputs": [
    {
     "name": "stdout",
     "output_type": "stream",
     "text": [
      " The Football World Cup is a tournament that occurs every four years and is currently controlled by FIFA, the international governing body of football (also known as soccer). For the first four World Cups, the hosts were selected by FIFA several years before the tournament was to take place. The first World Cup was proposed to be held in the United States, but significant issues with their domestic soccer organizations prevented this from occurring. As a result, Uruguay was selected to be the host country for the first World Cup in 1930. \n",
      "\n",
      "Historically, the selection process for the host country has undergone several changes since the 1930s. Would you like me to provide more information on the selection process by FIFA for hosting countries, or the countries that have hosted the soccer world cup? \n"
     ]
    }
   ],
   "source": [
    "print(convo.run(\"In which country did this tournament take place?\"))"
   ]
  },
  {
   "cell_type": "markdown",
   "metadata": {},
   "source": [
    "<b>ConversationBufferWindowMemory: </b> Same as the first type of memory, but in this we can limit how many past contexts we want the memory to retain."
   ]
  },
  {
   "cell_type": "code",
   "execution_count": 57,
   "metadata": {},
   "outputs": [],
   "source": [
    "from langchain.memory import ConversationBufferWindowMemory"
   ]
  },
  {
   "cell_type": "code",
   "execution_count": 63,
   "metadata": {},
   "outputs": [],
   "source": [
    "cbw_memory = ConversationBufferWindowMemory(k=2)"
   ]
  },
  {
   "cell_type": "code",
   "execution_count": 64,
   "metadata": {},
   "outputs": [],
   "source": [
    "convo_chain = ConversationChain(llm=client, memory=cbw_memory)"
   ]
  },
  {
   "cell_type": "code",
   "execution_count": 65,
   "metadata": {},
   "outputs": [
    {
     "name": "stdout",
     "output_type": "stream",
     "text": [
      " The Middle Ages in Europe is generally considered to have lasted from the fall of the Western Roman Empire (c. 476) to the beginning of the Renaissance (c. 1300). \n",
      "\n",
      "This is a huge period of time consisting of several distinct eras. Would you like me to break down the Middle Ages into smaller periods and describe key historical events and social changes that occurred in each? \n",
      "\n",
      "I can also name key medieval era countries in Europe if you like, and describe what life was like for people living during this time. \n"
     ]
    }
   ],
   "source": [
    "print(convo_chain.run(\"When was the middle-age period in Europe?\"))"
   ]
  },
  {
   "cell_type": "code",
   "execution_count": 66,
   "metadata": {},
   "outputs": [
    {
     "name": "stdout",
     "output_type": "stream",
     "text": [
      " Lionel Messi was born on June 24, 1987. He is a living legend and one of the greatest footballers (soccer players) of all time, equipped with a natural talent and athletic gift that bolstered his skill onto the world's stage. He has been hailed as an inspiration, and his skill has been likened to musical genius.\n",
      "\n",
      "Would you like me to tell you about some of his achievements? I can also summarise his early life and the pivotal moments of his career that led him to become one of the most acclaimed soccer players in the world. \n"
     ]
    }
   ],
   "source": [
    "print(convo_chain.run(\"When was Lionel Messi born?\"))"
   ]
  },
  {
   "cell_type": "code",
   "execution_count": 67,
   "metadata": {},
   "outputs": [
    {
     "name": "stdout",
     "output_type": "stream",
     "text": [
      " The Renaissance period is termed as such due to the notion of \"rebirth\", where societal arts and knowledge swept back into popularity. With that being said, here are some famous artists of this period: \n",
      "\n",
      "1. Leonardo da Vinci (`1452-1519`) - One of the foremost successors of the Renaissance period, Leonardo da Vinci was a true polymath and is widely recognized for his benchmark works such as the `Mona Lisa` and `The Last Supper`. \n",
      "\n",
      "2. Raphael (`1483-1520`) - Raphael was a prolific painter and architect, known for his divine commanding of the figurative and for his pivotal role in shaping the aesthetic ideals of the Renaissance period. He is best portrayed in his famous painting, `The School of Athens`. \n",
      "\n",
      "3. Donatello (`1386-1466`) - Born as Donato di Niccolò di Betto Bardi, Donatello was an Italian Renaissance sculptor and is well-renowned as a pioneer in the transition away from the gothic sculpture and sculpture of the Renaissance period. \n",
      "\n",
      "4. Michelangelo (`1475-1564`) - Another highly acclaimed artist of this period, Michelangelo is known for his expertise and mastery of a diverse range of mediums. He is responsible for the design\n"
     ]
    }
   ],
   "source": [
    "print(convo_chain.run(\"Name some famous artists of that period.\"))"
   ]
  },
  {
   "cell_type": "code",
   "execution_count": null,
   "metadata": {},
   "outputs": [],
   "source": []
  },
  {
   "cell_type": "code",
   "execution_count": null,
   "metadata": {},
   "outputs": [],
   "source": []
  },
  {
   "cell_type": "code",
   "execution_count": null,
   "metadata": {},
   "outputs": [],
   "source": []
  }
 ],
 "metadata": {
  "kernelspec": {
   "display_name": "Python 3 (ipykernel)",
   "language": "python",
   "name": "python3"
  },
  "language_info": {
   "codemirror_mode": {
    "name": "ipython",
    "version": 3
   },
   "file_extension": ".py",
   "mimetype": "text/x-python",
   "name": "python",
   "nbconvert_exporter": "python",
   "pygments_lexer": "ipython3",
   "version": "3.12.3"
  }
 },
 "nbformat": 4,
 "nbformat_minor": 2
}
